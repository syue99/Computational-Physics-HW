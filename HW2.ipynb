{
 "cells": [
  {
   "cell_type": "code",
   "execution_count": 1,
   "metadata": {},
   "outputs": [],
   "source": [
    "import numpy as np\n",
    "from math import *\n",
    "import matplotlib.pyplot as plt"
   ]
  },
  {
   "cell_type": "code",
   "execution_count": 3,
   "metadata": {},
   "outputs": [],
   "source": [
    "#Q1 b\n",
    "def inputfun(x):\n",
    "    return 1-np.exp(-2*x)\n",
    "    #return np.exp(1-x**2) #test function for negative w\n",
    "def relax(x,func):\n",
    "    e = 1\n",
    "    c = 0\n",
    "    while e>10**(-6):\n",
    "        c+=1\n",
    "        x_old = x\n",
    "        x = func(x)\n",
    "        e = abs(x_old - x)\n",
    "    print(c)\n",
    "    return x"
   ]
  },
  {
   "cell_type": "code",
   "execution_count": 5,
   "metadata": {},
   "outputs": [
    {
     "name": "stdout",
     "output_type": "stream",
     "text": [
      "14\n"
     ]
    },
    {
     "data": {
      "text/plain": [
       "0.7968126311118457"
      ]
     },
     "execution_count": 5,
     "metadata": {},
     "output_type": "execute_result"
    }
   ],
   "source": [
    "relax(1,inputfun)"
   ]
  },
  {
   "cell_type": "code",
   "execution_count": 6,
   "metadata": {},
   "outputs": [],
   "source": [
    "#Q1c\n",
    "def overrelax(x,func,w):\n",
    "    e = 1\n",
    "    c = 0\n",
    "    while (abs(e)>10**(-6)):\n",
    "        c+=1\n",
    "        x_old = x\n",
    "        x = (1+w)*func(x_old)-w*x_old\n",
    "        e = x - x_old\n",
    "        print(x)\n",
    "    print(c)\n",
    "    return x"
   ]
  },
  {
   "cell_type": "code",
   "execution_count": 8,
   "metadata": {},
   "outputs": [
    {
     "name": "stdout",
     "output_type": "stream",
     "text": [
      "0.796997075145081\n",
      "0.7968323724281932\n",
      "0.7968143476015649\n",
      "0.7968123729832619\n",
      "0.7968121566399141\n",
      "5\n"
     ]
    },
    {
     "data": {
      "text/plain": [
       "0.7968121566399141"
      ]
     },
     "execution_count": 8,
     "metadata": {},
     "output_type": "execute_result"
    }
   ],
   "source": [
    "overrelax(1,inputfun,0.5)"
   ]
  },
  {
   "cell_type": "code",
   "execution_count": 9,
   "metadata": {},
   "outputs": [],
   "source": [
    "def bisect(fun,rang):\n",
    "    x1 = rang[0]\n",
    "    x2 = rang[1]\n",
    "    #check if the input is correct\n",
    "    if fun(x1)*fun(x2) > 0:\n",
    "        print(\"Error\")\n",
    "        return 0\n",
    "    else:\n",
    "        while abs(fun(x1))>10**(-6):\n",
    "            x3 = (x1+x2)/2\n",
    "            if fun(x3)*fun(x2)>0:\n",
    "                x2 = x3\n",
    "            else:\n",
    "                x1 = x3\n",
    "        return x1\n",
    "\n",
    "def equation(x):\n",
    "    return 5*np.exp(-x)+x-5"
   ]
  },
  {
   "cell_type": "code",
   "execution_count": 10,
   "metadata": {},
   "outputs": [
    {
     "data": {
      "text/plain": [
       "4.965113580226898"
      ]
     },
     "execution_count": 10,
     "metadata": {},
     "output_type": "execute_result"
    }
   ],
   "source": [
    "bisect(equation,[0.5,7])"
   ]
  },
  {
   "cell_type": "code",
   "execution_count": 11,
   "metadata": {},
   "outputs": [],
   "source": [
    "#Q3 tests"
   ]
  },
  {
   "cell_type": "code",
   "execution_count": 12,
   "metadata": {},
   "outputs": [],
   "source": [
    "#utility functions\n",
    "def forward_difference(func,x,h):\n",
    "    f_prime = (func(x+h) - func(x))/h\n",
    "    return f_prime \n",
    "def central_difference(func,x,h):\n",
    "    f_prime = ((func(x+h) - func(x-h))/(2*h))\n",
    "    return f_prime \n"
   ]
  },
  {
   "cell_type": "code",
   "execution_count": 17,
   "metadata": {},
   "outputs": [],
   "source": [
    "#test funcdtion for 1D gradient descend\n",
    "def test(x):\n",
    "    return (x-2)**2"
   ]
  },
  {
   "cell_type": "code",
   "execution_count": 18,
   "metadata": {},
   "outputs": [],
   "source": [
    "def gradient_descend(fun,x0):\n",
    "    h = 0.01\n",
    "    xp = 1\n",
    "    while abs(xp)>10**(-6):\n",
    "        xp = central_difference(test,x0,h)\n",
    "        x0 = x0 - xp*h\n",
    "    return x0\n",
    "    "
   ]
  },
  {
   "cell_type": "code",
   "execution_count": 19,
   "metadata": {},
   "outputs": [
    {
     "data": {
      "text/plain": [
       "2.0000004811935037"
      ]
     },
     "execution_count": 19,
     "metadata": {},
     "output_type": "execute_result"
    }
   ],
   "source": [
    "gradient_descend(test,100)"
   ]
  },
  {
   "cell_type": "code",
   "execution_count": 21,
   "metadata": {},
   "outputs": [],
   "source": [
    "#test function for 2d GD\n",
    "def test1(x,y):\n",
    "    return (x-2)**2+(y-2)**2\n",
    " \n",
    "def gradient_descend(fun,x,y):\n",
    "    h = 0.01\n",
    "    xp = 1\n",
    "    yp = 1\n",
    "    res = []\n",
    "    while abs(xp)>10**(-6):\n",
    "        xp = central_difference(lambda x:fun(x,y),x,h)\n",
    "        yp = central_difference(lambda y:fun(x,y),y,h)\n",
    "        x = x - xp*h\n",
    "        y = y - yp*h\n",
    "        res.append(fun(x,y))\n",
    "    return x,y,res\n",
    "    "
   ]
  },
  {
   "cell_type": "code",
   "execution_count": 24,
   "metadata": {},
   "outputs": [
    {
     "name": "stdout",
     "output_type": "stream",
     "text": [
      "1.9999995189989725 2.000000462138241\n"
     ]
    }
   ],
   "source": [
    "x,y,res = gradient_descend(test1,-100,100)\n",
    "print(x,y)"
   ]
  },
  {
   "cell_type": "code",
   "execution_count": 25,
   "metadata": {},
   "outputs": [
    {
     "data": {
      "text/plain": [
       "[<matplotlib.lines.Line2D at 0x7fccd668aa20>]"
      ]
     },
     "execution_count": 25,
     "metadata": {},
     "output_type": "execute_result"
    },
    {
     "data": {
      "image/png": "[encoded data removed]",
      "text/plain": [
       "<Figure size 432x288 with 1 Axes>"
      ]
     },
     "metadata": {
      "needs_background": "light"
     },
     "output_type": "display_data"
    }
   ],
   "source": [
    "plt.plot(res)"
   ]
  },
  {
   "cell_type": "code",
   "execution_count": 26,
   "metadata": {},
   "outputs": [],
   "source": [
    "#Q3\n",
    "data = np.loadtxt(\"smf_cosmos.dat\")"
   ]
  },
  {
   "cell_type": "code",
   "execution_count": 27,
   "metadata": {},
   "outputs": [],
   "source": [
    "#get data\n",
    "y = data[:,1]\n",
    "logM = data[:,0]\n",
    "M= 10**logM\n",
    "yer = data[:,2]"
   ]
  },
  {
   "cell_type": "code",
   "execution_count": 28,
   "metadata": {},
   "outputs": [],
   "source": [
    "# Define Schester function, cost function, and the inputfunction when doing GD\n",
    "def sche(phi,M_s,a,M):\n",
    "    return phi*np.log(10)*np.exp(-(10**M)/(10**M_s))*((10**M/10**M_s)**(a+1))\n",
    "def cost_fun(phi, M_s, a, M, out):\n",
    "    return sum((out-sche(phi,M_s,a,M))**2/sche(phi,M_s,a,M))\n",
    "def inputfun(x1,x2,x3):\n",
    "    return cost_fun(x1,x2,x3,logM,y)\n"
   ]
  },
  {
   "cell_type": "code",
   "execution_count": 30,
   "metadata": {},
   "outputs": [],
   "source": [
    "def gradient_descend(fun,x,y,z,tol):\n",
    "    c = 0\n",
    "    maxite = 500000\n",
    "    xp = 1\n",
    "    yp = 1\n",
    "    zp = 1\n",
    "    step = 1\n",
    "    h = 0.0001\n",
    "    hx = 0.0001\n",
    "    hy = 0.0001\n",
    "    hz = 0.0001\n",
    "    x2=x+h; \n",
    "    y2=y+h;\n",
    "    z2=z+h;\n",
    "    chi2 = []\n",
    "    while step>tol and c<maxite:\n",
    "        xp = forward_difference(lambda x:fun(x,y,z),x,hx)\n",
    "        yp = forward_difference(lambda y:fun(x,y,z),y,hy)\n",
    "        zp = forward_difference(lambda z:fun(x,y,z),z,hz)\n",
    "        x3 = x2 - h*xp\n",
    "        y3 = y2 - h*yp\n",
    "        z3 = z2 - h*zp\n",
    "        hx = x2-x\n",
    "        hy = y2-y\n",
    "        hz = z2-z\n",
    "        x = x2\n",
    "        x2 = x3 \n",
    "        y = y2\n",
    "        y2 = y3\n",
    "        z = z2\n",
    "        z2 = z3\n",
    "        chi2.append(fun(x,y,z))\n",
    "        step = max(abs(hx),abs(hy),abs(hz));\n",
    "        c+=1\n",
    "    print(\"The local minimum was found in\",c,'iterations.')\n",
    "    return x,y,z,chi2\n",
    "    "
   ]
  },
  {
   "cell_type": "code",
   "execution_count": 31,
   "metadata": {},
   "outputs": [
    {
     "name": "stdout",
     "output_type": "stream",
     "text": [
      "The local minimum was found in 9505 iterations.\n"
     ]
    }
   ],
   "source": [
    "#test for different initial guesses \n",
    "phi,Ms,a,chi2 = gradient_descend(inputfun,0.5,10.88,-0.97,10**(-6))\n",
    "#phi,Ms,a,chi22 = gradient_descend(inputfun,np.exp(-3.5),11.5,-0.5,10**(-6))\n",
    "#phi1,Ms1,a1,chi21 = gradient_descend(inputfun,0.0032,10.9,-0.97,10**(-6))"
   ]
  },
  {
   "cell_type": "code",
   "execution_count": 33,
   "metadata": {},
   "outputs": [
    {
     "data": {
      "text/plain": [
       "[<matplotlib.lines.Line2D at 0x7fccd6594710>]"
      ]
     },
     "execution_count": 33,
     "metadata": {},
     "output_type": "execute_result"
    },
    {
     "data": {
      "image/png": "[encoded data removed]",
      "text/plain": [
       "<Figure size 432x288 with 1 Axes>"
      ]
     },
     "metadata": {
      "needs_background": "light"
     },
     "output_type": "display_data"
    }
   ],
   "source": [
    "plt.plot(chi2)"
   ]
  },
  {
   "cell_type": "code",
   "execution_count": 130,
   "metadata": {},
   "outputs": [
    {
     "data": {
      "image/png": "[encoded data removed]",
      "text/plain": [
       "<Figure size 432x288 with 1 Axes>"
      ]
     },
     "metadata": {
      "needs_background": "light"
     },
     "output_type": "display_data"
    }
   ],
   "source": [
    "X = np.linspace(9,11.85,100)\n",
    "plt.loglog(10**X,sche(0.5,11,-1,X))\n",
    "plt.loglog(10**X,sche(phi1,Ms1,a1, X))\n",
    "plt.loglog(10**X,sche(phi,Ms,a, X))\n",
    "#plt.loglog(10**X,sche(0.0021863316107612477,11.186536039022329,-1.0485449733838006, X))\n",
    "\n",
    "for i in range(0,len(M)):\n",
    "    plt.errorbar(M[i], y[i], yer[i], marker='d', color=\"r\")"
   ]
  },
  {
   "cell_type": "code",
   "execution_count": 84,
   "metadata": {},
   "outputs": [
    {
     "data": {
      "text/plain": [
       "[<matplotlib.lines.Line2D at 0x7f2a12823860>]"
      ]
     },
     "execution_count": 84,
     "metadata": {},
     "output_type": "execute_result"
    },
    {
     "data": {
      "image/png": "[encoded data removed]",
      "text/plain": [
       "<Figure size 432x288 with 1 Axes>"
      ]
     },
     "metadata": {
      "needs_background": "light"
     },
     "output_type": "display_data"
    }
   ],
   "source": [
    "plt.plot(chi)"
   ]
  }
 ],
 "metadata": {
  "kernelspec": {
   "display_name": "Python 3",
   "language": "python",
   "name": "python3"
  },
  "language_info": {
   "codemirror_mode": {
    "name": "ipython",
    "version": 3
   },
   "file_extension": ".py",
   "mimetype": "text/x-python",
   "name": "python",
   "nbconvert_exporter": "python",
   "pygments_lexer": "ipython3",
   "version": "3.7.3"
  }
 },
 "nbformat": 4,
 "nbformat_minor": 2
}
